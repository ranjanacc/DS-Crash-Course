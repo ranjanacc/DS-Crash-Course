{
 "cells": [
  {
   "cell_type": "code",
   "execution_count": 1,
   "id": "b389bfac",
   "metadata": {},
   "outputs": [],
   "source": [
    "import pandas as pd"
   ]
  },
  {
   "cell_type": "code",
   "execution_count": 2,
   "id": "c6cd73db",
   "metadata": {},
   "outputs": [],
   "source": [
    "df = pd.read_csv('googleplaystore.csv')"
   ]
  },
  {
   "cell_type": "code",
   "execution_count": 4,
   "id": "8d836b7e",
   "metadata": {},
   "outputs": [],
   "source": [
    "df = df.dropna()"
   ]
  },
  {
   "cell_type": "code",
   "execution_count": 5,
   "id": "4581e308",
   "metadata": {},
   "outputs": [
    {
     "name": "stdout",
     "output_type": "stream",
     "text": [
      "1020\n"
     ]
    }
   ],
   "source": [
    "#1. How many free apps are there in GAME\n",
    "s = 0\n",
    "\n",
    "for i in df.values:\n",
    "  if(i[1] == 'GAME' and i[6] == \"Free\"):\n",
    "    s += 1\n",
    "\n",
    "print(s)"
   ]
  },
  {
   "cell_type": "code",
   "execution_count": 6,
   "id": "4e6aa835",
   "metadata": {},
   "outputs": [
    {
     "name": "stdout",
     "output_type": "stream",
     "text": [
      "2\n"
     ]
    }
   ],
   "source": [
    "#2. How many paid apps are there in SHOPPING\n",
    "s = 0\n",
    "\n",
    "for i in df.values:\n",
    "  if(i[1] == 'SHOPPING' and i[6] == \"Paid\"):\n",
    "    s += 1\n",
    "\n",
    "print(s)"
   ]
  },
  {
   "cell_type": "code",
   "execution_count": 7,
   "id": "dd58be6f",
   "metadata": {},
   "outputs": [
    {
     "name": "stdout",
     "output_type": "stream",
     "text": [
      "11\n"
     ]
    }
   ],
   "source": [
    "#3. How many free apps are there in BEAUTY with rating more than 4.5\n",
    "s = 0\n",
    "\n",
    "for i in df.values:\n",
    "  if(i[1] == 'BEAUTY' and i[6] == \"Free\" and i[2] > 4.5):\n",
    "    s += 1\n",
    "\n",
    "print(s)"
   ]
  },
  {
   "cell_type": "code",
   "execution_count": 8,
   "id": "378d9c9b",
   "metadata": {},
   "outputs": [
    {
     "name": "stdout",
     "output_type": "stream",
     "text": [
      "BEAUTY:  0\n",
      "ENTERTAINMENT:  2\n",
      "GAME:  77\n",
      "FAMILY:  161\n"
     ]
    }
   ],
   "source": [
    "#4. Which category is having most number of paid apps?\n",
    "for name in df['Category'].unique():\n",
    "    s = 0\n",
    "    for i in df.values:\n",
    "        if (i[1] == name and i[6] == \"Paid\"):\n",
    "            s += 1\n",
    "    if name == \"FAMILY\" or name == \"GAME\" or name == \"BEAUTY\" or name == \"ENTERTAINMENT\":\n",
    "        print(name + \": \", s)"
   ]
  },
  {
   "cell_type": "code",
   "execution_count": 9,
   "id": "3f0c5871",
   "metadata": {},
   "outputs": [
    {
     "name": "stdout",
     "output_type": "stream",
     "text": [
      "0\n"
     ]
    }
   ],
   "source": [
    "#5. How many paid apps are there with SOCIAL category and Teen Content Rating?\n",
    "s = 0\n",
    "\n",
    "for i in df.values:\n",
    "  if(i[1] == 'SOCIAL' and i[6] == \"Paid\" and i[8] == \"Teen\"):\n",
    "    s += 1\n",
    "\n",
    "print(s)"
   ]
  },
  {
   "cell_type": "code",
   "execution_count": 10,
   "id": "06acfd62",
   "metadata": {},
   "outputs": [
    {
     "data": {
      "text/html": [
       "<div>\n",
       "<style scoped>\n",
       "    .dataframe tbody tr th:only-of-type {\n",
       "        vertical-align: middle;\n",
       "    }\n",
       "\n",
       "    .dataframe tbody tr th {\n",
       "        vertical-align: top;\n",
       "    }\n",
       "\n",
       "    .dataframe thead th {\n",
       "        text-align: right;\n",
       "    }\n",
       "</style>\n",
       "<table border=\"1\" class=\"dataframe\">\n",
       "  <thead>\n",
       "    <tr style=\"text-align: right;\">\n",
       "      <th></th>\n",
       "      <th>Unnamed: 0</th>\n",
       "      <th>price</th>\n",
       "      <th>brand</th>\n",
       "      <th>model</th>\n",
       "      <th>year</th>\n",
       "      <th>title_status</th>\n",
       "      <th>mileage</th>\n",
       "      <th>color</th>\n",
       "      <th>vin</th>\n",
       "      <th>lot</th>\n",
       "      <th>state</th>\n",
       "      <th>country</th>\n",
       "      <th>condition</th>\n",
       "    </tr>\n",
       "  </thead>\n",
       "  <tbody>\n",
       "    <tr>\n",
       "      <th>0</th>\n",
       "      <td>0</td>\n",
       "      <td>6300</td>\n",
       "      <td>toyota</td>\n",
       "      <td>cruiser</td>\n",
       "      <td>2008</td>\n",
       "      <td>clean vehicle</td>\n",
       "      <td>274117.0</td>\n",
       "      <td>black</td>\n",
       "      <td>jtezu11f88k007763</td>\n",
       "      <td>159348797</td>\n",
       "      <td>new jersey</td>\n",
       "      <td>usa</td>\n",
       "      <td>10 days left</td>\n",
       "    </tr>\n",
       "    <tr>\n",
       "      <th>1</th>\n",
       "      <td>1</td>\n",
       "      <td>2899</td>\n",
       "      <td>ford</td>\n",
       "      <td>se</td>\n",
       "      <td>2011</td>\n",
       "      <td>clean vehicle</td>\n",
       "      <td>190552.0</td>\n",
       "      <td>silver</td>\n",
       "      <td>2fmdk3gc4bbb02217</td>\n",
       "      <td>166951262</td>\n",
       "      <td>tennessee</td>\n",
       "      <td>usa</td>\n",
       "      <td>6 days left</td>\n",
       "    </tr>\n",
       "    <tr>\n",
       "      <th>2</th>\n",
       "      <td>2</td>\n",
       "      <td>5350</td>\n",
       "      <td>dodge</td>\n",
       "      <td>mpv</td>\n",
       "      <td>2018</td>\n",
       "      <td>clean vehicle</td>\n",
       "      <td>39590.0</td>\n",
       "      <td>silver</td>\n",
       "      <td>3c4pdcgg5jt346413</td>\n",
       "      <td>167655728</td>\n",
       "      <td>georgia</td>\n",
       "      <td>usa</td>\n",
       "      <td>2 days left</td>\n",
       "    </tr>\n",
       "    <tr>\n",
       "      <th>3</th>\n",
       "      <td>3</td>\n",
       "      <td>25000</td>\n",
       "      <td>ford</td>\n",
       "      <td>door</td>\n",
       "      <td>2014</td>\n",
       "      <td>clean vehicle</td>\n",
       "      <td>64146.0</td>\n",
       "      <td>blue</td>\n",
       "      <td>1ftfw1et4efc23745</td>\n",
       "      <td>167753855</td>\n",
       "      <td>virginia</td>\n",
       "      <td>usa</td>\n",
       "      <td>22 hours left</td>\n",
       "    </tr>\n",
       "    <tr>\n",
       "      <th>4</th>\n",
       "      <td>4</td>\n",
       "      <td>27700</td>\n",
       "      <td>chevrolet</td>\n",
       "      <td>1500</td>\n",
       "      <td>2018</td>\n",
       "      <td>clean vehicle</td>\n",
       "      <td>6654.0</td>\n",
       "      <td>red</td>\n",
       "      <td>3gcpcrec2jg473991</td>\n",
       "      <td>167763266</td>\n",
       "      <td>florida</td>\n",
       "      <td>usa</td>\n",
       "      <td>22 hours left</td>\n",
       "    </tr>\n",
       "    <tr>\n",
       "      <th>...</th>\n",
       "      <td>...</td>\n",
       "      <td>...</td>\n",
       "      <td>...</td>\n",
       "      <td>...</td>\n",
       "      <td>...</td>\n",
       "      <td>...</td>\n",
       "      <td>...</td>\n",
       "      <td>...</td>\n",
       "      <td>...</td>\n",
       "      <td>...</td>\n",
       "      <td>...</td>\n",
       "      <td>...</td>\n",
       "      <td>...</td>\n",
       "    </tr>\n",
       "    <tr>\n",
       "      <th>2494</th>\n",
       "      <td>2494</td>\n",
       "      <td>7800</td>\n",
       "      <td>nissan</td>\n",
       "      <td>versa</td>\n",
       "      <td>2019</td>\n",
       "      <td>clean vehicle</td>\n",
       "      <td>23609.0</td>\n",
       "      <td>red</td>\n",
       "      <td>3n1cn7ap9kl880319</td>\n",
       "      <td>167722715</td>\n",
       "      <td>california</td>\n",
       "      <td>usa</td>\n",
       "      <td>1 days left</td>\n",
       "    </tr>\n",
       "    <tr>\n",
       "      <th>2495</th>\n",
       "      <td>2495</td>\n",
       "      <td>9200</td>\n",
       "      <td>nissan</td>\n",
       "      <td>versa</td>\n",
       "      <td>2018</td>\n",
       "      <td>clean vehicle</td>\n",
       "      <td>34553.0</td>\n",
       "      <td>silver</td>\n",
       "      <td>3n1cn7ap5jl884088</td>\n",
       "      <td>167762225</td>\n",
       "      <td>florida</td>\n",
       "      <td>usa</td>\n",
       "      <td>21 hours left</td>\n",
       "    </tr>\n",
       "    <tr>\n",
       "      <th>2496</th>\n",
       "      <td>2496</td>\n",
       "      <td>9200</td>\n",
       "      <td>nissan</td>\n",
       "      <td>versa</td>\n",
       "      <td>2018</td>\n",
       "      <td>clean vehicle</td>\n",
       "      <td>31594.0</td>\n",
       "      <td>silver</td>\n",
       "      <td>3n1cn7ap9jl884191</td>\n",
       "      <td>167762226</td>\n",
       "      <td>florida</td>\n",
       "      <td>usa</td>\n",
       "      <td>21 hours left</td>\n",
       "    </tr>\n",
       "    <tr>\n",
       "      <th>2497</th>\n",
       "      <td>2497</td>\n",
       "      <td>9200</td>\n",
       "      <td>nissan</td>\n",
       "      <td>versa</td>\n",
       "      <td>2018</td>\n",
       "      <td>clean vehicle</td>\n",
       "      <td>32557.0</td>\n",
       "      <td>black</td>\n",
       "      <td>3n1cn7ap3jl883263</td>\n",
       "      <td>167762227</td>\n",
       "      <td>florida</td>\n",
       "      <td>usa</td>\n",
       "      <td>2 days left</td>\n",
       "    </tr>\n",
       "    <tr>\n",
       "      <th>2498</th>\n",
       "      <td>2498</td>\n",
       "      <td>9200</td>\n",
       "      <td>nissan</td>\n",
       "      <td>versa</td>\n",
       "      <td>2018</td>\n",
       "      <td>clean vehicle</td>\n",
       "      <td>31371.0</td>\n",
       "      <td>silver</td>\n",
       "      <td>3n1cn7ap4jl884311</td>\n",
       "      <td>167762228</td>\n",
       "      <td>florida</td>\n",
       "      <td>usa</td>\n",
       "      <td>21 hours left</td>\n",
       "    </tr>\n",
       "  </tbody>\n",
       "</table>\n",
       "<p>2499 rows × 13 columns</p>\n",
       "</div>"
      ],
      "text/plain": [
       "      Unnamed: 0  price      brand    model  year   title_status   mileage  \\\n",
       "0              0   6300     toyota  cruiser  2008  clean vehicle  274117.0   \n",
       "1              1   2899       ford       se  2011  clean vehicle  190552.0   \n",
       "2              2   5350      dodge      mpv  2018  clean vehicle   39590.0   \n",
       "3              3  25000       ford     door  2014  clean vehicle   64146.0   \n",
       "4              4  27700  chevrolet     1500  2018  clean vehicle    6654.0   \n",
       "...          ...    ...        ...      ...   ...            ...       ...   \n",
       "2494        2494   7800     nissan    versa  2019  clean vehicle   23609.0   \n",
       "2495        2495   9200     nissan    versa  2018  clean vehicle   34553.0   \n",
       "2496        2496   9200     nissan    versa  2018  clean vehicle   31594.0   \n",
       "2497        2497   9200     nissan    versa  2018  clean vehicle   32557.0   \n",
       "2498        2498   9200     nissan    versa  2018  clean vehicle   31371.0   \n",
       "\n",
       "       color                  vin        lot       state country  \\\n",
       "0      black    jtezu11f88k007763  159348797  new jersey     usa   \n",
       "1     silver    2fmdk3gc4bbb02217  166951262   tennessee     usa   \n",
       "2     silver    3c4pdcgg5jt346413  167655728     georgia     usa   \n",
       "3       blue    1ftfw1et4efc23745  167753855    virginia     usa   \n",
       "4        red    3gcpcrec2jg473991  167763266     florida     usa   \n",
       "...      ...                  ...        ...         ...     ...   \n",
       "2494     red    3n1cn7ap9kl880319  167722715  california     usa   \n",
       "2495  silver    3n1cn7ap5jl884088  167762225     florida     usa   \n",
       "2496  silver    3n1cn7ap9jl884191  167762226     florida     usa   \n",
       "2497   black    3n1cn7ap3jl883263  167762227     florida     usa   \n",
       "2498  silver    3n1cn7ap4jl884311  167762228     florida     usa   \n",
       "\n",
       "          condition  \n",
       "0      10 days left  \n",
       "1       6 days left  \n",
       "2       2 days left  \n",
       "3     22 hours left  \n",
       "4     22 hours left  \n",
       "...             ...  \n",
       "2494    1 days left  \n",
       "2495  21 hours left  \n",
       "2496  21 hours left  \n",
       "2497    2 days left  \n",
       "2498  21 hours left  \n",
       "\n",
       "[2499 rows x 13 columns]"
      ]
     },
     "execution_count": 10,
     "metadata": {},
     "output_type": "execute_result"
    }
   ],
   "source": [
    "import pandas as pd\n",
    "data = pd.read_csv('USA-cars-datasets.csv')\n",
    "data = data.dropna()\n",
    "data"
   ]
  },
  {
   "cell_type": "code",
   "execution_count": 11,
   "id": "cd2d8775",
   "metadata": {},
   "outputs": [
    {
     "name": "stdout",
     "output_type": "stream",
     "text": [
      "ford:  1235\n",
      "dodge:  432\n",
      "gmc:  42\n",
      "nissan:  312\n"
     ]
    }
   ],
   "source": [
    "#1. Top car brand in terms of number of cars.\n",
    "for name in data['brand'].unique():\n",
    "    s = 0\n",
    "    for i in data.values:\n",
    "        if (i[2] == name):\n",
    "            s += 1\n",
    "    if name == \"ford\" or name == \"dodge\" or name == \"nissan\" or name == \"gmc\" or name == \"ferrari\":\n",
    "        print(name + \": \", s)"
   ]
  },
  {
   "cell_type": "code",
   "execution_count": 13,
   "id": "10d95e49",
   "metadata": {},
   "outputs": [
    {
     "data": {
      "text/plain": [
       "array(['toyota', 'ford', 'dodge', 'chevrolet', 'gmc', 'chrysler', 'kia',\n",
       "       'buick', 'infiniti', 'mercedes-benz', 'jeep', 'bmw', 'cadillac',\n",
       "       'hyundai', 'mazda', 'honda', 'heartland', 'jaguar', 'acura',\n",
       "       'harley-davidson', 'audi', 'lincoln', 'lexus', 'nissan', 'land',\n",
       "       'maserati', 'peterbilt', 'ram'], dtype=object)"
      ]
     },
     "execution_count": 13,
     "metadata": {},
     "output_type": "execute_result"
    }
   ],
   "source": [
    "data['brand'].unique() #2. Which of the following car brand is not there in the data, clearly Ferrari not present"
   ]
  },
  {
   "cell_type": "code",
   "execution_count": 14,
   "id": "6eaecf6b",
   "metadata": {},
   "outputs": [
    {
     "name": "stdout",
     "output_type": "stream",
     "text": [
      "395\n"
     ]
    }
   ],
   "source": [
    "#3. Average Price of cars in 2018?\n",
    "#total number of cars sold in 2018\n",
    "s = 0\n",
    "for i in data.values:\n",
    "  if(i[4] == 2018):\n",
    "    s += 1\n",
    "print(s)"
   ]
  },
  {
   "cell_type": "code",
   "execution_count": 15,
   "id": "0a6875a2",
   "metadata": {},
   "outputs": [
    {
     "name": "stdout",
     "output_type": "stream",
     "text": [
      "7528044\n"
     ]
    }
   ],
   "source": [
    "#sum of prices of cars sold in 2018\n",
    "s = 0\n",
    "for i in data.values:\n",
    "    if(i[4] == 2018):\n",
    "        s += i[1]\n",
    "print(s)"
   ]
  },
  {
   "cell_type": "code",
   "execution_count": 16,
   "id": "e90a9cb8",
   "metadata": {},
   "outputs": [
    {
     "data": {
      "text/plain": [
       "19058.339240506328"
      ]
     },
     "execution_count": 16,
     "metadata": {},
     "output_type": "execute_result"
    }
   ],
   "source": [
    "7528044/395"
   ]
  },
  {
   "cell_type": "code",
   "execution_count": 17,
   "id": "97592748",
   "metadata": {},
   "outputs": [
    {
     "name": "stdout",
     "output_type": "stream",
     "text": [
      "ford:  1235\n",
      "harley-davidson:  1\n",
      "lexus:  2\n",
      "nissan:  312\n"
     ]
    }
   ],
   "source": [
    "#4. Which brand is having most expensive cars (*maximum average car price)?\n",
    "#number of cars sold by each brand\n",
    "for name in data['brand'].unique():\n",
    "    s = 0\n",
    "    for i in data['brand']:\n",
    "        if (i == name):\n",
    "            s += 1\n",
    "    if (name == 'harley-davidson' or name == 'lexus' or name == 'ford' or name == 'nissan' or name == 'ferrari'):      \n",
    "        print(name + \": \", s)"
   ]
  },
  {
   "cell_type": "code",
   "execution_count": 18,
   "id": "912225c5",
   "metadata": {},
   "outputs": [
    {
     "name": "stdout",
     "output_type": "stream",
     "text": [
      "ford: 26758607\n",
      "harley-davidson: 54680\n",
      "lexus: 66440\n",
      "nissan: 3764536\n"
     ]
    }
   ],
   "source": [
    "#sum of prices of cars sold by each brand\n",
    "for name in data['brand'].unique():\n",
    "    s = 0\n",
    "    for n in data.values:\n",
    "        if (n[2] == name):\n",
    "            s = s + n[1]\n",
    "    if (name == 'harley-davidson' or name == 'lexus' or name == 'ford' or name == 'nissan' or name == 'ferrari'):\n",
    "        print(name + \": \" + str(s))"
   ]
  },
  {
   "cell_type": "code",
   "execution_count": 20,
   "id": "9da38a28",
   "metadata": {},
   "outputs": [
    {
     "name": "stdout",
     "output_type": "stream",
     "text": [
      "21666.888259109313 54680.0 33220.0 12065.820512820514\n"
     ]
    }
   ],
   "source": [
    "fo = 26758607/1235\n",
    "ha = 54680/1\n",
    "le = 66440/2\n",
    "ni = 3764536/312\n",
    "print(fo, ha, le, ni) #clearly, harley davidson is the solution"
   ]
  },
  {
   "cell_type": "code",
   "execution_count": 21,
   "id": "34cb703a",
   "metadata": {},
   "outputs": [
    {
     "name": "stdout",
     "output_type": "stream",
     "text": [
      "california:  190\n",
      "kentucky:  9\n",
      "ontario:  7\n",
      "new mexico:  4\n"
     ]
    }
   ],
   "source": [
    "#5. Which state is having most expensive cars (*maximum average car price)? \n",
    "#number of cars sold in each state\n",
    "for name in data['state'].unique():\n",
    "    s = 0\n",
    "    for i in data['state']:\n",
    "        if (i == name):\n",
    "            s += 1\n",
    "    if (name == 'kentucky' or name == 'ontario' or name == 'new mexico' or name == 'california'):      \n",
    "        print(name + \": \", s)"
   ]
  },
  {
   "cell_type": "code",
   "execution_count": 22,
   "id": "d85b4724",
   "metadata": {},
   "outputs": [
    {
     "name": "stdout",
     "output_type": "stream",
     "text": [
      "california: 3388975\n",
      "kentucky: 404725\n",
      "ontario: 212500\n",
      "new mexico: 109500\n"
     ]
    }
   ],
   "source": [
    "#sum of prices of cars sold in each state\n",
    "for name in data['state'].unique():\n",
    "    s = 0\n",
    "    for n in data.values:\n",
    "        if (n[10] == name):\n",
    "            s = s + n[1]\n",
    "    if (name == 'kentucky' or name == 'ontario' or name == 'new mexico' or name == 'california'):\n",
    "        print(name + \": \" + str(s))"
   ]
  },
  {
   "cell_type": "code",
   "execution_count": 24,
   "id": "b7ff5a3d",
   "metadata": {},
   "outputs": [
    {
     "name": "stdout",
     "output_type": "stream",
     "text": [
      "17836.71052631579 44969.444444444445 30357.14285714286 27375.0\n"
     ]
    }
   ],
   "source": [
    "ca = 3388975/190\n",
    "ke = 404725/9\n",
    "on = 212500/7\n",
    "ne = 109500/4\n",
    "print(ca, ke, on, ne) #clearly kentucky is the solution"
   ]
  }
 ],
 "metadata": {
  "kernelspec": {
   "display_name": "Python 3",
   "language": "python",
   "name": "python3"
  },
  "language_info": {
   "codemirror_mode": {
    "name": "ipython",
    "version": 3
   },
   "file_extension": ".py",
   "mimetype": "text/x-python",
   "name": "python",
   "nbconvert_exporter": "python",
   "pygments_lexer": "ipython3",
   "version": "3.8.8"
  }
 },
 "nbformat": 4,
 "nbformat_minor": 5
}
